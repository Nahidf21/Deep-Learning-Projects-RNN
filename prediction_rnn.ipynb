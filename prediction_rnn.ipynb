{
 "cells": [
  {
   "cell_type": "code",
   "execution_count": 12,
   "metadata": {},
   "outputs": [],
   "source": [
    "import numpy as np\n",
    "import tensorflow as tf \n",
    "from tensorflow.keras.datasets import imdb\n",
    "from tensorflow.keras.models import Sequential \n",
    "from tensorflow.keras.layers import Embedding, SimpleRNN, Dense\n",
    "from tensorflow.keras.models import load_model\n",
    "from tensorflow.keras.preprocessing.sequence import pad_sequences"
   ]
  },
  {
   "cell_type": "code",
   "execution_count": 13,
   "metadata": {},
   "outputs": [],
   "source": [
    "# Load the IMDB dataset word index \n",
    "word_index = imdb.get_word_index()\n",
    "revers_word_index = {value: key for key, value in word_index.items()}\n"
   ]
  },
  {
   "cell_type": "code",
   "execution_count": 14,
   "metadata": {},
   "outputs": [
    {
     "name": "stderr",
     "output_type": "stream",
     "text": [
      "WARNING:absl:Compiled the loaded model, but the compiled metrics have yet to be built. `model.compile_metrics` will be empty until you train or evaluate the model.\n"
     ]
    },
    {
     "data": {
      "text/html": [
       "<pre style=\"white-space:pre;overflow-x:auto;line-height:normal;font-family:Menlo,'DejaVu Sans Mono',consolas,'Courier New',monospace\"><span style=\"font-weight: bold\">Model: \"sequential_10\"</span>\n",
       "</pre>\n"
      ],
      "text/plain": [
       "\u001b[1mModel: \"sequential_10\"\u001b[0m\n"
      ]
     },
     "metadata": {},
     "output_type": "display_data"
    },
    {
     "data": {
      "text/html": [
       "<pre style=\"white-space:pre;overflow-x:auto;line-height:normal;font-family:Menlo,'DejaVu Sans Mono',consolas,'Courier New',monospace\">┏━━━━━━━━━━━━━━━━━━━━━━━━━━━━━━━━━┳━━━━━━━━━━━━━━━━━━━━━━━━┳━━━━━━━━━━━━━━━┓\n",
       "┃<span style=\"font-weight: bold\"> Layer (type)                    </span>┃<span style=\"font-weight: bold\"> Output Shape           </span>┃<span style=\"font-weight: bold\">       Param # </span>┃\n",
       "┡━━━━━━━━━━━━━━━━━━━━━━━━━━━━━━━━━╇━━━━━━━━━━━━━━━━━━━━━━━━╇━━━━━━━━━━━━━━━┩\n",
       "│ embedding_10 (<span style=\"color: #0087ff; text-decoration-color: #0087ff\">Embedding</span>)        │ (<span style=\"color: #00af00; text-decoration-color: #00af00\">32</span>, <span style=\"color: #00af00; text-decoration-color: #00af00\">500</span>, <span style=\"color: #00af00; text-decoration-color: #00af00\">128</span>)         │     <span style=\"color: #00af00; text-decoration-color: #00af00\">1,280,000</span> │\n",
       "├─────────────────────────────────┼────────────────────────┼───────────────┤\n",
       "│ simple_rnn_10 (<span style=\"color: #0087ff; text-decoration-color: #0087ff\">SimpleRNN</span>)       │ (<span style=\"color: #00af00; text-decoration-color: #00af00\">32</span>, <span style=\"color: #00af00; text-decoration-color: #00af00\">128</span>)              │        <span style=\"color: #00af00; text-decoration-color: #00af00\">32,896</span> │\n",
       "├─────────────────────────────────┼────────────────────────┼───────────────┤\n",
       "│ dense_10 (<span style=\"color: #0087ff; text-decoration-color: #0087ff\">Dense</span>)                │ (<span style=\"color: #00af00; text-decoration-color: #00af00\">32</span>, <span style=\"color: #00af00; text-decoration-color: #00af00\">1</span>)                │           <span style=\"color: #00af00; text-decoration-color: #00af00\">129</span> │\n",
       "└─────────────────────────────────┴────────────────────────┴───────────────┘\n",
       "</pre>\n"
      ],
      "text/plain": [
       "┏━━━━━━━━━━━━━━━━━━━━━━━━━━━━━━━━━┳━━━━━━━━━━━━━━━━━━━━━━━━┳━━━━━━━━━━━━━━━┓\n",
       "┃\u001b[1m \u001b[0m\u001b[1mLayer (type)                   \u001b[0m\u001b[1m \u001b[0m┃\u001b[1m \u001b[0m\u001b[1mOutput Shape          \u001b[0m\u001b[1m \u001b[0m┃\u001b[1m \u001b[0m\u001b[1m      Param #\u001b[0m\u001b[1m \u001b[0m┃\n",
       "┡━━━━━━━━━━━━━━━━━━━━━━━━━━━━━━━━━╇━━━━━━━━━━━━━━━━━━━━━━━━╇━━━━━━━━━━━━━━━┩\n",
       "│ embedding_10 (\u001b[38;5;33mEmbedding\u001b[0m)        │ (\u001b[38;5;34m32\u001b[0m, \u001b[38;5;34m500\u001b[0m, \u001b[38;5;34m128\u001b[0m)         │     \u001b[38;5;34m1,280,000\u001b[0m │\n",
       "├─────────────────────────────────┼────────────────────────┼───────────────┤\n",
       "│ simple_rnn_10 (\u001b[38;5;33mSimpleRNN\u001b[0m)       │ (\u001b[38;5;34m32\u001b[0m, \u001b[38;5;34m128\u001b[0m)              │        \u001b[38;5;34m32,896\u001b[0m │\n",
       "├─────────────────────────────────┼────────────────────────┼───────────────┤\n",
       "│ dense_10 (\u001b[38;5;33mDense\u001b[0m)                │ (\u001b[38;5;34m32\u001b[0m, \u001b[38;5;34m1\u001b[0m)                │           \u001b[38;5;34m129\u001b[0m │\n",
       "└─────────────────────────────────┴────────────────────────┴───────────────┘\n"
      ]
     },
     "metadata": {},
     "output_type": "display_data"
    },
    {
     "data": {
      "text/html": [
       "<pre style=\"white-space:pre;overflow-x:auto;line-height:normal;font-family:Menlo,'DejaVu Sans Mono',consolas,'Courier New',monospace\"><span style=\"font-weight: bold\"> Total params: </span><span style=\"color: #00af00; text-decoration-color: #00af00\">1,313,027</span> (5.01 MB)\n",
       "</pre>\n"
      ],
      "text/plain": [
       "\u001b[1m Total params: \u001b[0m\u001b[38;5;34m1,313,027\u001b[0m (5.01 MB)\n"
      ]
     },
     "metadata": {},
     "output_type": "display_data"
    },
    {
     "data": {
      "text/html": [
       "<pre style=\"white-space:pre;overflow-x:auto;line-height:normal;font-family:Menlo,'DejaVu Sans Mono',consolas,'Courier New',monospace\"><span style=\"font-weight: bold\"> Trainable params: </span><span style=\"color: #00af00; text-decoration-color: #00af00\">1,313,025</span> (5.01 MB)\n",
       "</pre>\n"
      ],
      "text/plain": [
       "\u001b[1m Trainable params: \u001b[0m\u001b[38;5;34m1,313,025\u001b[0m (5.01 MB)\n"
      ]
     },
     "metadata": {},
     "output_type": "display_data"
    },
    {
     "data": {
      "text/html": [
       "<pre style=\"white-space:pre;overflow-x:auto;line-height:normal;font-family:Menlo,'DejaVu Sans Mono',consolas,'Courier New',monospace\"><span style=\"font-weight: bold\"> Non-trainable params: </span><span style=\"color: #00af00; text-decoration-color: #00af00\">0</span> (0.00 B)\n",
       "</pre>\n"
      ],
      "text/plain": [
       "\u001b[1m Non-trainable params: \u001b[0m\u001b[38;5;34m0\u001b[0m (0.00 B)\n"
      ]
     },
     "metadata": {},
     "output_type": "display_data"
    },
    {
     "data": {
      "text/html": [
       "<pre style=\"white-space:pre;overflow-x:auto;line-height:normal;font-family:Menlo,'DejaVu Sans Mono',consolas,'Courier New',monospace\"><span style=\"font-weight: bold\"> Optimizer params: </span><span style=\"color: #00af00; text-decoration-color: #00af00\">2</span> (12.00 B)\n",
       "</pre>\n"
      ],
      "text/plain": [
       "\u001b[1m Optimizer params: \u001b[0m\u001b[38;5;34m2\u001b[0m (12.00 B)\n"
      ]
     },
     "metadata": {},
     "output_type": "display_data"
    }
   ],
   "source": [
    "#Load the model \n",
    "model = load_model('simplernn.h5')\n",
    "model.summary()"
   ]
  },
  {
   "cell_type": "code",
   "execution_count": 15,
   "metadata": {},
   "outputs": [
    {
     "data": {
      "text/plain": [
       "[array([[-0.00812028,  0.22828197, -0.05834642, ..., -0.10410972,\n",
       "          0.02758877,  0.03480417],\n",
       "        [-0.02772267,  0.04325771, -0.02236801, ..., -0.05740358,\n",
       "         -0.00433371, -0.03763654],\n",
       "        [ 0.00262891,  0.05499114,  0.01030895, ..., -0.02909634,\n",
       "          0.04986408,  0.06320435],\n",
       "        ...,\n",
       "        [ 0.0007983 ,  0.01417814,  0.00511174, ..., -0.02065315,\n",
       "         -0.05868519,  0.08506537],\n",
       "        [ 0.00313864,  0.08028121,  0.09226145, ...,  0.00061443,\n",
       "         -0.0432994 ,  0.05215784],\n",
       "        [-0.02216925,  0.10804279, -0.0587094 , ...,  0.01889612,\n",
       "          0.02341678, -0.04826983]], dtype=float32),\n",
       " array([[-0.04527534,  0.15605314, -0.05933786, ...,  0.08279096,\n",
       "          0.06346408,  0.10179684],\n",
       "        [ 0.0188075 , -0.01143576, -0.02068152, ..., -0.07102863,\n",
       "         -0.02284566, -0.13855995],\n",
       "        [ 0.03769204,  0.03929318, -0.09280103, ..., -0.065433  ,\n",
       "          0.08675583,  0.03111477],\n",
       "        ...,\n",
       "        [ 0.06409416,  0.15528409,  0.13695516, ...,  0.0362988 ,\n",
       "         -0.08570449, -0.06625468],\n",
       "        [ 0.18398431, -0.0714737 , -0.01347005, ..., -0.00797499,\n",
       "         -0.04648679,  0.16574804],\n",
       "        [ 0.06298316, -0.097825  ,  0.02799857, ...,  0.08174878,\n",
       "         -0.16290875,  0.09251497]], dtype=float32),\n",
       " array([[ 0.10413852, -0.018867  , -0.14910895, ...,  0.03031023,\n",
       "         -0.16664319, -0.00955541],\n",
       "        [ 0.0092417 ,  0.01384879,  0.09874187, ..., -0.1536422 ,\n",
       "          0.0746954 ,  0.10210658],\n",
       "        [ 0.09388184,  0.04800266, -0.11367939, ..., -0.16754158,\n",
       "          0.07741791,  0.04895586],\n",
       "        ...,\n",
       "        [ 0.00196174, -0.1888188 , -0.05422862, ..., -0.07706407,\n",
       "         -0.08118807, -0.02288959],\n",
       "        [ 0.06895678,  0.00488922,  0.01488836, ...,  0.00906846,\n",
       "         -0.04644831, -0.09014644],\n",
       "        [ 0.04752503, -0.00550541,  0.03551957, ...,  0.04505315,\n",
       "          0.20499428, -0.0738816 ]], dtype=float32),\n",
       " array([ 0.00582181,  0.03182001, -0.04699522, -0.00412698,  0.02779674,\n",
       "        -0.02689299, -0.00327886, -0.02224524,  0.00944351, -0.03734783,\n",
       "        -0.00096056,  0.00597624, -0.00365372,  0.02486744,  0.01746368,\n",
       "        -0.04470719, -0.01221739, -0.03125287, -0.01220636, -0.00438009,\n",
       "        -0.00615092,  0.04086635, -0.03679423,  0.00397895, -0.01773949,\n",
       "        -0.02362982,  0.05028005,  0.05604221, -0.03347182,  0.00043497,\n",
       "        -0.0149265 , -0.02163298,  0.02249123, -0.04348341, -0.00657041,\n",
       "        -0.04080845, -0.00025997, -0.01947773, -0.02316056, -0.01231449,\n",
       "        -0.02952805,  0.02547378, -0.01540556, -0.03884817, -0.04812765,\n",
       "         0.00289708, -0.00671394, -0.02734618,  0.00253547, -0.02162289,\n",
       "        -0.02712769, -0.02863567, -0.04191252, -0.02329981, -0.02941611,\n",
       "        -0.00942571, -0.02064116, -0.03040373, -0.01269515, -0.01578433,\n",
       "         0.01539575, -0.03358807, -0.03457161, -0.03162445,  0.00056291,\n",
       "         0.00433484,  0.01945598,  0.00857687, -0.02239927,  0.02367367,\n",
       "        -0.01743225, -0.01035214, -0.01845365, -0.02998703,  0.01554218,\n",
       "         0.00094139, -0.0365864 , -0.02854252, -0.02915435, -0.02160604,\n",
       "         0.00706307, -0.00525846,  0.03941929, -0.04315811, -0.00865061,\n",
       "         0.01333433,  0.01114776, -0.02790599,  0.04519784, -0.01833557,\n",
       "        -0.03384665,  0.02538266,  0.01553449, -0.02170079, -0.02422619,\n",
       "         0.01653287, -0.0359659 , -0.03188097, -0.02000161, -0.03023672,\n",
       "        -0.03507694,  0.01182957, -0.03649864, -0.04207379,  0.00878532,\n",
       "        -0.04136036, -0.01099287, -0.02722197,  0.0106209 , -0.02797472,\n",
       "        -0.03320453, -0.01187049, -0.00355971, -0.00523315, -0.02887686,\n",
       "        -0.01747956, -0.04257335,  0.00679599, -0.00847875, -0.02580439,\n",
       "        -0.03621981, -0.02371876, -0.00955214, -0.01714946, -0.0442418 ,\n",
       "        -0.02444062, -0.00261139, -0.0173832 ], dtype=float32),\n",
       " array([[-2.41280906e-02],\n",
       "        [ 1.61865160e-01],\n",
       "        [ 1.08749628e-01],\n",
       "        [ 3.26099657e-02],\n",
       "        [-9.90969241e-02],\n",
       "        [-8.38663522e-03],\n",
       "        [-2.73876134e-02],\n",
       "        [ 2.22659651e-02],\n",
       "        [ 2.16274098e-01],\n",
       "        [-3.01799387e-01],\n",
       "        [ 9.12469923e-02],\n",
       "        [-5.45530617e-02],\n",
       "        [-8.11269462e-01],\n",
       "        [ 1.24976240e-01],\n",
       "        [ 6.73066452e-02],\n",
       "        [-8.58737677e-02],\n",
       "        [-9.80178416e-02],\n",
       "        [-2.45878503e-01],\n",
       "        [ 1.13782898e-01],\n",
       "        [-1.91341341e-01],\n",
       "        [-1.67092830e-01],\n",
       "        [-1.54735455e-02],\n",
       "        [ 2.58237392e-01],\n",
       "        [ 4.10116881e-01],\n",
       "        [ 1.50849044e-01],\n",
       "        [-1.49491683e-01],\n",
       "        [-2.24614754e-01],\n",
       "        [ 2.19130456e-01],\n",
       "        [ 3.34307492e-01],\n",
       "        [ 1.16056569e-01],\n",
       "        [-1.30557775e-01],\n",
       "        [-2.73963273e-01],\n",
       "        [ 5.54621816e-02],\n",
       "        [ 1.31977811e-01],\n",
       "        [-2.31290400e-01],\n",
       "        [-1.55958682e-01],\n",
       "        [-9.93128717e-02],\n",
       "        [ 1.49243459e-01],\n",
       "        [-1.13651469e-01],\n",
       "        [ 2.15833679e-01],\n",
       "        [-4.53866832e-02],\n",
       "        [ 9.52823386e-02],\n",
       "        [-1.12382434e-01],\n",
       "        [ 4.62207906e-02],\n",
       "        [ 2.28940964e-01],\n",
       "        [ 7.66097754e-02],\n",
       "        [-1.65308684e-01],\n",
       "        [-9.12746117e-02],\n",
       "        [ 3.09855253e-01],\n",
       "        [ 4.29891795e-02],\n",
       "        [-1.49922803e-01],\n",
       "        [-1.87954202e-01],\n",
       "        [-1.83614686e-01],\n",
       "        [ 1.27084970e-01],\n",
       "        [-1.60110459e-01],\n",
       "        [-2.20102146e-01],\n",
       "        [-6.66487575e-01],\n",
       "        [-2.37712696e-01],\n",
       "        [-1.10999420e-01],\n",
       "        [ 7.60182664e-02],\n",
       "        [-3.65829840e-02],\n",
       "        [-2.45377705e-01],\n",
       "        [-9.70164314e-02],\n",
       "        [-1.39267311e-01],\n",
       "        [-1.15045331e-01],\n",
       "        [ 2.00959250e-01],\n",
       "        [ 6.48122206e-02],\n",
       "        [ 1.17922937e-02],\n",
       "        [-1.85933486e-01],\n",
       "        [ 1.63525119e-01],\n",
       "        [ 3.43365878e-01],\n",
       "        [ 1.11053549e-01],\n",
       "        [-1.34890944e-01],\n",
       "        [ 1.09914921e-01],\n",
       "        [-3.56354058e-01],\n",
       "        [ 1.34948060e-01],\n",
       "        [-2.09808543e-01],\n",
       "        [-1.06077366e-01],\n",
       "        [-2.12621793e-01],\n",
       "        [-1.24318078e-01],\n",
       "        [ 2.39655137e-01],\n",
       "        [-3.86870727e-02],\n",
       "        [ 2.59574652e-01],\n",
       "        [ 1.43078193e-01],\n",
       "        [-1.65934995e-01],\n",
       "        [-1.26705483e-01],\n",
       "        [ 2.48179276e-04],\n",
       "        [-6.22825976e-03],\n",
       "        [ 2.27675080e-01],\n",
       "        [ 3.76125425e-02],\n",
       "        [ 1.49244875e-01],\n",
       "        [-7.11899623e-03],\n",
       "        [-1.36009887e-01],\n",
       "        [-2.06212893e-01],\n",
       "        [ 1.12487413e-01],\n",
       "        [-2.24574342e-01],\n",
       "        [ 1.20990455e-01],\n",
       "        [ 1.59496158e-01],\n",
       "        [-1.23308077e-01],\n",
       "        [-1.75081059e-01],\n",
       "        [ 1.42316878e-01],\n",
       "        [-1.53252676e-01],\n",
       "        [ 2.96976361e-02],\n",
       "        [-5.78949153e-02],\n",
       "        [ 3.02589200e-02],\n",
       "        [ 5.93547076e-02],\n",
       "        [-2.05345482e-01],\n",
       "        [ 3.20400119e-01],\n",
       "        [ 1.50620669e-01],\n",
       "        [-5.09577692e-02],\n",
       "        [ 1.77889261e-02],\n",
       "        [-8.45813453e-02],\n",
       "        [ 2.47069553e-01],\n",
       "        [-1.95176955e-02],\n",
       "        [ 2.08946317e-01],\n",
       "        [ 1.64402258e-02],\n",
       "        [ 1.23223051e-01],\n",
       "        [-7.52012730e-02],\n",
       "        [ 8.32336918e-02],\n",
       "        [-1.67445466e-02],\n",
       "        [ 1.00388937e-01],\n",
       "        [-6.25503004e-01],\n",
       "        [-3.78277665e-03],\n",
       "        [ 1.73046798e-01],\n",
       "        [ 1.71064157e-02],\n",
       "        [-2.12948278e-01],\n",
       "        [ 1.26586184e-01],\n",
       "        [ 1.68012381e-01]], dtype=float32),\n",
       " array([0.61798304], dtype=float32)]"
      ]
     },
     "execution_count": 15,
     "metadata": {},
     "output_type": "execute_result"
    }
   ],
   "source": [
    "model.get_weights()"
   ]
  },
  {
   "cell_type": "code",
   "execution_count": 16,
   "metadata": {},
   "outputs": [],
   "source": [
    "#Step 2: Helper Functions \n",
    "# Function to decoder reviews \n",
    "def decode_review(encoded_review):\n",
    "    return ' '.join([revers_word_index.get(i-3, '?') for i in encoded_review])\n",
    "\n",
    "# Function to preprocess user input \n",
    "def preprocess_text(text):\n",
    "    words = text.lower().split()\n",
    "    encoded_review = [word_index.get(word, 2) + 3 for word in words]\n",
    "    padded_review = pad_sequences([encoded_review],maxlen=500)\n",
    "    return padded_review\n"
   ]
  },
  {
   "cell_type": "code",
   "execution_count": 20,
   "metadata": {},
   "outputs": [],
   "source": [
    "## Prediction function \n",
    "def predict_sentiment(reviews):\n",
    "    preprocess_input = preprocess_text(reviews)\n",
    "\n",
    "    prediction = model.predict(preprocess_input)\n",
    "    sentiment = 'Positive' if prediction[0][0] > 0.5 else 'Negative'\n",
    "    return sentiment, prediction[0][0]\n"
   ]
  },
  {
   "cell_type": "code",
   "execution_count": 31,
   "metadata": {},
   "outputs": [
    {
     "name": "stdout",
     "output_type": "stream",
     "text": [
      "\u001b[1m1/1\u001b[0m \u001b[32m━━━━━━━━━━━━━━━━━━━━\u001b[0m\u001b[37m\u001b[0m \u001b[1m0s\u001b[0m 19ms/step\n",
      "This movie was  fantastic! The acting was great and the plot was thrilling.\n",
      "Positive\n",
      "0.70198315\n"
     ]
    }
   ],
   "source": [
    "## Step : 04 \n",
    "## Use input prediction\n",
    "# Example rexiew for prediction\n",
    "example_review = 'This movie was  fantastic! The acting was great and the plot was thrilling.'\n",
    "sentiment, score =predict_sentiment(example_review)\n",
    "print(example_review)\n",
    "print(sentiment)\n",
    "print(score)"
   ]
  },
  {
   "cell_type": "code",
   "execution_count": null,
   "metadata": {},
   "outputs": [],
   "source": []
  }
 ],
 "metadata": {
  "kernelspec": {
   "display_name": "Python 3",
   "language": "python",
   "name": "python3"
  },
  "language_info": {
   "codemirror_mode": {
    "name": "ipython",
    "version": 3
   },
   "file_extension": ".py",
   "mimetype": "text/x-python",
   "name": "python",
   "nbconvert_exporter": "python",
   "pygments_lexer": "ipython3",
   "version": "3.11.0"
  }
 },
 "nbformat": 4,
 "nbformat_minor": 2
}
